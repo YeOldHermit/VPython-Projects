{
 "cells": [
  {
   "cell_type": "code",
   "execution_count": 1,
   "metadata": {},
   "outputs": [
    {
     "data": {
      "text/html": [
       "<div id=\"glowscript\" class=\"glowscript\"></div>"
      ],
      "text/plain": [
       "<IPython.core.display.HTML object>"
      ]
     },
     "metadata": {},
     "output_type": "display_data"
    },
    {
     "data": {
      "application/javascript": [
       "if (typeof Jupyter !== \"undefined\") { window.__context = { glowscript_container: $(\"#glowscript\").removeAttr(\"id\")};}else{ element.textContent = ' ';}"
      ],
      "text/plain": [
       "<IPython.core.display.Javascript object>"
      ]
     },
     "metadata": {},
     "output_type": "display_data"
    },
    {
     "data": {
      "application/javascript": [
       "if (typeof Jupyter !== \"undefined\") {require.undef(\"nbextensions/vpython_libraries/glow.min\");}else{element.textContent = ' ';}"
      ],
      "text/plain": [
       "<IPython.core.display.Javascript object>"
      ]
     },
     "metadata": {},
     "output_type": "display_data"
    },
    {
     "data": {
      "application/javascript": [
       "if (typeof Jupyter !== \"undefined\") {require.undef(\"nbextensions/vpython_libraries/glowcomm\");}else{element.textContent = ' ';}"
      ],
      "text/plain": [
       "<IPython.core.display.Javascript object>"
      ]
     },
     "metadata": {},
     "output_type": "display_data"
    },
    {
     "data": {
      "application/javascript": [
       "if (typeof Jupyter !== \"undefined\") {require.undef(\"nbextensions/vpython_libraries/jquery-ui.custom.min\");}else{element.textContent = ' ';}"
      ],
      "text/plain": [
       "<IPython.core.display.Javascript object>"
      ]
     },
     "metadata": {},
     "output_type": "display_data"
    },
    {
     "data": {
      "application/javascript": [
       "if (typeof Jupyter !== \"undefined\") {require([\"nbextensions/vpython_libraries/glow.min\"], function(){console.log(\"GLOW LOADED\");});}else{element.textContent = ' ';}"
      ],
      "text/plain": [
       "<IPython.core.display.Javascript object>"
      ]
     },
     "metadata": {},
     "output_type": "display_data"
    },
    {
     "data": {
      "application/javascript": [
       "if (typeof Jupyter !== \"undefined\") {require([\"nbextensions/vpython_libraries/glowcomm\"], function(){console.log(\"GLOWCOMM LOADED\");});}else{element.textContent = ' ';}"
      ],
      "text/plain": [
       "<IPython.core.display.Javascript object>"
      ]
     },
     "metadata": {},
     "output_type": "display_data"
    },
    {
     "data": {
      "application/javascript": [
       "if (typeof Jupyter !== \"undefined\") {require([\"nbextensions/vpython_libraries/jquery-ui.custom.min\"], function(){console.log(\"JQUERY LOADED\");});}else{element.textContent = ' ';}"
      ],
      "text/plain": [
       "<IPython.core.display.Javascript object>"
      ]
     },
     "metadata": {},
     "output_type": "display_data"
    }
   ],
   "source": [
    "from vpython import *\n",
    "#Code for large green spheres\n",
    "sphere(pos = vector(-4, 4,4), radius = 2, color = color.green)\n",
    "sphere(pos = vector(4,4,4), radius = 2, color = color.green)\n",
    "sphere(pos = vector(-4,-4,4), radius = 2, color = color.green)\n",
    "sphere(pos = vector(4,-4,4), radius = 2, color = color.green)\n",
    "sphere(pos = vector(-4,4,-4), radius = 2, color = color.green)\n",
    "sphere(pos = vector(4,4,-4), radius = 2, color = color.green)\n",
    "sphere(pos = vector(-4,-4,-4), radius = 2, color = color.green)\n",
    "sphere(pos = vector(4,-4,-4), radius = 2, color = color.green)\n",
    "#Code for very small blue sphere\n",
    "sphere(pos = vector(0, 0,0), radius = 0.5, color = color.blue)\n",
    "#Code for small red spheres \n",
    "sphere(pos = vector(4, 0,0), radius = 1, color = color.red)\n",
    "sphere(pos = vector(-4, 0,0), radius = 1, color = color.red)\n",
    "sphere(pos = vector(0, 0,4), radius = 1, color = color.red)\n",
    "sphere(pos = vector(0, 0,-4), radius = 1, color = color.red)\n",
    "sphere(pos = vector(0, 4,0), radius = 1, color = color.red)\n",
    "sphere(pos = vector(0, -4,0), radius = 1, color = color.red)\n",
    "#Code for Diamond structure\n",
    "rod = cylinder(pos=vector(-4,0,0),axis=vector(4,0,4), radius=0.05)\n",
    "rod = cylinder(pos=vector(4,0,0),axis=vector(-4,0,4), radius=0.05)\n",
    "rod = cylinder(pos=vector(-4,0,0),axis=vector(4,0,-4), radius=0.05)\n",
    "rod = cylinder(pos=vector(4,0,0),axis=vector(-4,0,-4), radius=0.05)\n",
    "rod = cylinder(pos=vector(0,4,0),axis=vector(4,-4,0), radius=0.05)\n",
    "rod = cylinder(pos=vector(0,4,0),axis=vector(-4,-4,0), radius=0.05)\n",
    "rod = cylinder(pos=vector(0,-4,0),axis=vector(4,4,0), radius=0.05)\n",
    "rod = cylinder(pos=vector(0,-4,0),axis=vector(-4,4,0), radius=0.05)\n",
    "\n",
    "rod = cylinder(pos=vector(0,4,0),axis=vector(0,-4,4), radius=0.05)\n",
    "rod = cylinder(pos=vector(0,4,0),axis=vector(0,-4,-4), radius=0.05)\n",
    "\n",
    "rod = cylinder(pos=vector(0,-4,0),axis=vector(0,4,4), radius=0.05)\n",
    "rod = cylinder(pos=vector(0,-4,0),axis=vector(0,4,-4), radius=0.05)\n",
    "#Code for Cube structure\n",
    "rod = cylinder(pos=vector(-4,-4,-4),axis=vector(10,0,0), radius=0.05)\n",
    "rod = cylinder(pos=vector(-4,4,4),axis=vector(10,0,0), radius=0.05)\n",
    "rod = cylinder(pos=vector(-4,-4,4),axis=vector(10,0,0), radius=0.05)\n",
    "rod = cylinder(pos=vector(-4,4,-4),axis=vector(10,0,0), radius=0.05)\n",
    "rod = cylinder(pos=vector(-4,-4,-4),axis=vector(0,0,10), radius=0.05)\n",
    "rod = cylinder(pos=vector(-4,4,-4),axis=vector(0,0,10), radius=0.05)\n",
    "rod = cylinder(pos=vector(4,-4,-4),axis=vector(0,0,10), radius=0.05)\n",
    "rod = cylinder(pos=vector(4,4,-4),axis=vector(0,0,10), radius=0.05)\n",
    "rod = cylinder(pos=vector(-4,-4,-4),axis=vector(0,10,0), radius=0.05)\n",
    "rod = cylinder(pos=vector(-4,-4,4),axis=vector(0,10,0), radius=0.05)\n",
    "rod = cylinder(pos=vector(4,-4,-4),axis=vector(0,10,0), radius=0.05)\n",
    "rod = cylinder(pos=vector(4,-4,4),axis=vector(0,10,0), radius=0.05)"
   ]
  }
 ],
 "metadata": {
  "kernelspec": {
   "display_name": "Python 3",
   "language": "python",
   "name": "python3"
  },
  "language_info": {
   "codemirror_mode": {
    "name": "ipython",
    "version": 3
   },
   "file_extension": ".py",
   "mimetype": "text/x-python",
   "name": "python",
   "nbconvert_exporter": "python",
   "pygments_lexer": "ipython3",
   "version": "3.7.7"
  }
 },
 "nbformat": 4,
 "nbformat_minor": 4
}
