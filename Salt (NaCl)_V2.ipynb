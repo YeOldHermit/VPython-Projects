{
 "cells": [
  {
   "cell_type": "code",
   "execution_count": null,
   "metadata": {},
   "outputs": [],
   "source": [
    "from vpython import *\n",
    "#Code for large green spheres\n",
    "sphere(pos = vector(5, 5,5), radius = 3, color = color.green)\n",
    "sphere(pos = vector(-5, 5,-5), radius = 3, color = color.green)\n",
    "sphere(pos = vector(-5, -5,5), radius = 3, color = color.green)\n",
    "sphere(pos = vector(5, -5,-5), radius = 3, color = color.green)\n",
    "#Code for small purple spheres\n",
    "sphere(pos = vector(-5, 5,5), radius = 2, color = color.purple)\n",
    "sphere(pos = vector(5, 5,-5), radius = 2, color = color.purple)\n",
    "sphere(pos = vector(-5,-5,-5), radius = 2, color = color.purple)\n",
    "sphere(pos = vector(5,-5,5), radius = 2, color = color.purple)\n",
    "#Code for Cube frame rods\n",
    "rod = cylinder(pos=vector(-5,-5,-5),axis=vector(10,0,0), radius=0.05)\n",
    "rod = cylinder(pos=vector(-5,5,5),axis=vector(10,0,0), radius=0.05)\n",
    "rod = cylinder(pos=vector(-5,-5,5),axis=vector(10,0,0), radius=0.05)\n",
    "rod = cylinder(pos=vector(-5,5,-5),axis=vector(10,0,0), radius=0.05)\n",
    "rod = cylinder(pos=vector(-5,-5,-5),axis=vector(0,0,10), radius=0.05)\n",
    "rod = cylinder(pos=vector(-5,5,-5),axis=vector(0,0,10), radius=0.05)\n",
    "rod = cylinder(pos=vector(5,-5,-5),axis=vector(0,0,10), radius=0.05)\n",
    "rod = cylinder(pos=vector(5,5,-5),axis=vector(0,0,10), radius=0.05)\n",
    "rod = cylinder(pos=vector(-5,-5,-5),axis=vector(0,10,0), radius=0.05)\n",
    "rod = cylinder(pos=vector(-5,-5,5),axis=vector(0,10,0), radius=0.05)\n",
    "rod = cylinder(pos=vector(5,-5,-5),axis=vector(0,10,0), radius=0.05)\n",
    "rod = cylinder(pos=vector(5,-5,5),axis=vector(0,10,0), radius=0.05)"
   ]
  }
 ],
 "metadata": {
  "kernelspec": {
   "display_name": "Python 3",
   "language": "python",
   "name": "python3"
  },
  "language_info": {
   "codemirror_mode": {
    "name": "ipython",
    "version": 3
   },
   "file_extension": ".py",
   "mimetype": "text/x-python",
   "name": "python",
   "nbconvert_exporter": "python",
   "pygments_lexer": "ipython3",
   "version": "3.7.7"
  }
 },
 "nbformat": 4,
 "nbformat_minor": 4
}
